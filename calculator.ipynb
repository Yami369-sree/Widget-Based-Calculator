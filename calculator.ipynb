import ipywidgets as widgets
from IPython.display import display, clear_output
num1 = widgets.FloatText(description="First:")
num2 = widgets.FloatText(description="Second:")
operation = widgets.Dropdown(
    options=['+', '-', '*', '/'],
    value='+',
    description='Op:'
)
output = widgets.Output()
def calculate(_):
    with output:
        clear_output()
        a = num1.value
        b = num2.value
        op = operation.value
        try:
            result = {
                '+': a + b,
                '-': a - b,
                '*': a * b,
                '/': a / b if b != 0 else "Error: Division by 0"
            }[op]
            print(f"Result: {result}")
        except Exception as e:
            print(f"Error: {e}")
calc_btn = widgets.Button(description="Calculate")
calc_btn.on_click(calculate)
display(num1, num2, operation, calc_btn, output)
